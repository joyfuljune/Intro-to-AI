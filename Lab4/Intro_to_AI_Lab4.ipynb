{
 "cells": [
  {
   "cell_type": "markdown",
   "id": "65d7fc80",
   "metadata": {},
   "source": [
    "姓名：小宝\n",
    "\n",
    "学号：20202020"
   ]
  },
  {
   "cell_type": "markdown",
   "id": "800b20b0",
   "metadata": {},
   "source": [
    "<h1 align='center'> 机器学习 </h1>"
   ]
  },
  {
   "cell_type": "markdown",
   "id": "7df010ea",
   "metadata": {},
   "source": [
    "#### 目录\n",
    "\n",
    "- [线性回归](#LR)\n",
    "    - [练习1. 房地产价格预测](#house)\n",
    "    - [练习2. 最小二乘法](#lsr)\n",
    "    - [练习3. 用更多的数据进行预测](#more)\n",
    "    - [练习4. 训练数据与测试数据](#data)\n",
    "- [最近邻方法](#kNN)\n",
    "    - [练习3. 向量距离](#vector)\n",
    "    - [练习2. 最近邻](#nearest)"
   ]
  },
  {
   "cell_type": "markdown",
   "id": "a07d84a0",
   "metadata": {},
   "source": [
    "## 线性回归 <a id=\"LR\"></a>"
   ]
  },
  {
   "cell_type": "markdown",
   "id": "47f46b13",
   "metadata": {},
   "source": [
    "推特（Twitter）流行一种说法：一个创业团队在筹款时，号称AI技术，在招聘时，号称用机器学习人才，在实现时，用的是线性回归。这虽然是一个笑话，但在某种意义上是正确的，因为向潜在投资者进行电梯推介[$^1$](#lift)时，使用一个更笼统的术语，如人工智能，才是明智之举。在招聘时使用一个更具体的术语以获得正确领域的专家是明智的，而在今天的大多数人工智能业务中，最相关的人工智能子领域是机器学习。而在机器学习的许多实际应用中， 拥有正确数据的线性回归是一种极其强大的技术。"
   ]
  },
  {
   "cell_type": "markdown",
   "id": "18e3d480",
   "metadata": {},
   "source": [
    "### 机器学习的类型\n",
    "在我们跳入机器学习和线性回归的话题之前，我们应该快速回顾一下机器学习的类型。"
   ]
  },
  {
   "cell_type": "markdown",
   "id": "a7cf8e71",
   "metadata": {},
   "source": [
    "- *监督学习*\n",
    "\n",
    "    在监督学习中，你已经知道正确的答案是什么，然后试图建立一个模型来模仿生成正确的答案。例如：你有公寓的价格数据，你知道公寓是以什么价格出售的，以及公寓的一些属性，比如面积是多少，楼层数等。你的模型将使用这些属性来预测公寓的价格。\n",
    "    \n",
    "    - 监督学习问题可以是**分类**问题（我们有狗、猫和鹦鹉的照片，想建立一个模型来检测给定图片中的动物是狗、猫还是鹦鹉）或，\n",
    "    - **回归**问题（建立一个模型预测学生的学习时间和他们能否通过期末考试之间的关系）\n",
    "    - 和信号作类比，分类问题得到离散的结果，如0，1，2，回归问题得到连续的结果，如1.1，5.3等。"
   ]
  },
  {
   "cell_type": "markdown",
   "id": "93460ca3",
   "metadata": {},
   "source": [
    "- *无监督学习*\n",
    "\n",
    "    在无监督学习环境中，没有答案，至少你不知道有什么答案。你的模型试图在你的数据中找到结构，或者生成你的数据的代表。例如，你有一个视频流媒体服务，你有用户数据显示你的用户观看了哪些视频。然后，你可以利用这些数据，根据视频或用户的特征对其进行分组。 这里的关键点是， 你并不知道应该分成几组。所以你的系统中可能只有三种类型的观众，或者五种类型。另一个例子是将你的视频服务流媒体用户根据他们的行为分成不同的群组，以深入了解你的用户群：你可以尝试找到不同类型的产品， 这些产品可以从不同类型的服务中受益。"
   ]
  },
  {
   "cell_type": "markdown",
   "id": "3cc7e807",
   "metadata": {},
   "source": [
    "- *强化学习*\n",
    "\n",
    "    谈到人工智能， 强化学习可能是最接近大多数人所认为的（广义上的）。在强化学习中，你有 \"代理人\"，他们在环境中以某种方式运作，以使某种奖励最大化。代理人的一个例子是在著名的2D侧滚动平台游戏中控制玩家角色的软件。 奖励被定义为通过一个关卡时的最终得分。然后，代理试图为其行为制定规则，使其分数最大化： 这可能包括寻求获得增加分数的动力装置和避免击中敌人的行为等等。强化学习的一个较新的例子是DeepMind的AlphaGo及其变体，它是一个强化学习系统，可以玩棋盘游戏，并在技术上超过了最好的人类棋手。"
   ]
  },
  {
   "cell_type": "markdown",
   "id": "46811f1c",
   "metadata": {},
   "source": [
    "#### 线性回归\n",
    "\n",
    "线性回归是【监督学习】中众多解决方案中的一种，其一般问题是回归性的。其任务是在一组输入值的基础上预测一个输出值。例如，根据不同的特征来预测mökki（一种芬兰小木屋）的价格，如以平方米为单位的大小，与最近的邻居的距离，条件（以某种数字尺度衡量），等等。\n",
    "\n",
    "##### 关键术语\n",
    "+ 我们将使用`输入`或`特征`这个术语来表示用于学习的数据。\n",
    "+ 用`输出`或`响应`这个词来表示要预测的东西。 \n",
    "\n",
    "例如， 小屋的`大小`是一个特征（或输入）， 而`价格`是输出（或响应）。 通常我们有一些既包含输入值又包含响应的数据，我们的目标是调整模型，使其输出尽可能地与实际响应值相匹配。"
   ]
  },
  {
   "cell_type": "markdown",
   "id": "b8a4e5e4",
   "metadata": {},
   "source": [
    "在线性回归中，预测是使用线性模型计算的，在该线性模型中，特征的每个增量都会按一定固定量增加或减少相同数量的预测输出。 每个功能的此数量可能不同。 \n",
    "\n",
    "例如，如果一个小木屋的价格是40万人民币，那么在其他条件相同的情况下，每增加一平方米的面积， 预测的价格就会增加相同的金额，比如说4000人民币；因此，增加两平方米的面积，价格就会增加8000人民币，增加三平方米的面积就会增加12000人民币，以此类推。\n",
    "\n",
    "室内厕所的数量也是如此，比如说每增加一个卫生间，价格增加2k人民币。也有一些负的系数，例如从小木屋到水体（比如说，一个风景湖）的距离越短，小木屋的价格就越高。或者说从小木屋到水体的距离每增加一米，价格就会降低一个固定的量。"
   ]
  },
  {
   "cell_type": "markdown",
   "id": "2629627a",
   "metadata": {},
   "source": [
    "小木屋定价模型很好地说明了线性回归模型不一定是非常好的模型这一事实。 很明显，不同大小的小木屋因靠近水域而产生的价格变化可能会有所不同。 如果没有特殊技巧，线性回归模型无法捕捉到这一点。 一个这样的技巧是将预测变量更改为每平方米的价格。 如果离水越近，每平方米的价格就越高，那么大木屋的总价涨幅会比小木屋的高。"
   ]
  },
  {
   "cell_type": "markdown",
   "id": "91252bf1",
   "metadata": {},
   "source": [
    "在具有三个变量和三个系数的示例情况中，线性回归中使用的公式具有形式$ c_1×x_1+c_2×x_2+c_3×x_3 $，其中有三个系数$c_1$、$c_2$和$c_3$对应于三个输入$x_1$、$x_2$和$x_3$。将其中一个输入增加一个单位（例如，一平方米）所导致的预测增加由相应的系数给出。当然，输入的数量不一定是三个，但是系数的数量总是和输入的数量一样。通常我们也在模型中包含一个所谓的截距项，在这种情况下，它会变成这样：\n",
    "$$ a+c_1×x_1+c_2×x_2+c_3×x_3 $$\n",
    "其中$a$就是截距。"
   ]
  },
  {
   "cell_type": "markdown",
   "id": "ae6f9abd",
   "metadata": {},
   "source": [
    "截距项的目的是使其有可能以一个恒定的量增加（或减少，如果截距值是负的） 预测值，而不受输入的影响。\n",
    "\n",
    "下面你将看到一个简单的程序，它可以产生关于小木屋价格的预测。 (免责声明： 该程序仅用于演示目的。如果你因为相信它的预测而损失了金钱， 请不要责怪本次实验说明！ )你可以修改输入值，以获得对不同小木屋的预测。\n",
    "\n",
    "小屋的细节，即尺寸（$66m^2$ ）、桑拿房的尺寸（$5m^2$ ）、与水的距离（15m）、室内厕所的数量（2个）和与最近邻居的距离（500m），都被指定为列表$x$的元素。 列表x的元素是输入$x_1 , ..., $和$x_5$ ，而$c$的元素是系数$c_1, ..., c_5$ 。注意，在这个例子中，我们没有使用截距项。"
   ]
  },
  {
   "cell_type": "code",
   "execution_count": null,
   "id": "42959f2c",
   "metadata": {},
   "outputs": [],
   "source": [
    "# 一个Mökkis的输入值：尺寸，桑拿房的大小，与景观湖的距离，室内洗手间的数量, 与邻居的距离\n",
    "\n",
    "x = [66, 5, 15, 2, 500]\n",
    "c = [3000, 200 , -50, 5000, 100]     # 系数值\n",
    "\n",
    "prediction = c[0]*x[0] + c[1]*x[1] + c[2]*x[2] + c[3]*x[3] + c[4]*x[4]\n",
    "\n",
    "print(prediction)"
   ]
  },
  {
   "cell_type": "markdown",
   "id": "154f1b97",
   "metadata": {},
   "source": [
    "如你所见， 预测的价格是258,250人民币。"
   ]
  },
  {
   "cell_type": "markdown",
   "id": "b00a2311",
   "metadata": {},
   "source": [
    "#### 练习1 房地产价格预测 <a id='house'></a>\n",
    "##### 练习1.1\n",
    "使用以上代码计算：\n",
    "房间面积$85m^2$，桑拿房面积$10m^2$，与湖泊的距离$5m$，室内洗手间的数量$1$，距离隔壁邻居的距离$100m$\n",
    "- 86，590元\n",
    "- 152，000元\n",
    "- 271，250元"
   ]
  },
  {
   "cell_type": "code",
   "execution_count": null,
   "id": "ccab1c8e",
   "metadata": {},
   "outputs": [],
   "source": [
    "# 你的答案是："
   ]
  },
  {
   "cell_type": "markdown",
   "id": "3ce95511",
   "metadata": {},
   "source": [
    "##### 练习1.2\n",
    "使用以上代码计算：\n",
    "房间面积$155m^2$，桑拿房面积$15m^2$，与湖泊的距离$5m$，室内洗手间的数量$1$，距离隔壁邻居的距离$200m$\n",
    "- 152,000元\n",
    "- 320,500元\n",
    "- 492,750元"
   ]
  },
  {
   "cell_type": "code",
   "execution_count": null,
   "id": "2839b7cb",
   "metadata": {},
   "outputs": [],
   "source": [
    "# 你的答案是："
   ]
  },
  {
   "cell_type": "markdown",
   "id": "949e6c44",
   "metadata": {},
   "source": [
    "##### 练习1.3\n",
    "哪种情况下房价增长更大？\n",
    "- 离湖边$10m$，有一个额外的室内洗手间\n",
    "- 面积大$10m^2$，与邻居相距$100m$以上"
   ]
  },
  {
   "cell_type": "code",
   "execution_count": null,
   "id": "ea33b43f",
   "metadata": {},
   "outputs": [],
   "source": [
    "# 你的答案是："
   ]
  },
  {
   "cell_type": "markdown",
   "id": "3b6cd12d",
   "metadata": {},
   "source": [
    "$c[0]*x[0]+c[1]*x[1]+c[2]*x[2]+c[3]*x[3]+c[4]*x[4]$这个繁琐的和可以很容易地被一个`for`循环取代。然而， 还有更优雅的方法来做这件事，使用`numpy`。"
   ]
  },
  {
   "cell_type": "code",
   "execution_count": null,
   "id": "a87a3760",
   "metadata": {},
   "outputs": [],
   "source": [
    "import numpy as np\n",
    "\n",
    "x = np.array([66, 5, 15, 2, 500])\n",
    "c = np.array([3000, 200 , -50, 5000, 100])\n",
    "\n",
    "print(x @ c)"
   ]
  },
  {
   "cell_type": "markdown",
   "id": "a1b1ce8a",
   "metadata": {},
   "source": [
    "这个方案对任何数量的输入都有效。 `@`运算符与名为`np.dot(x, c)`的函数的工作相同。函数名称`dot`来自于线性代数中的事实，将各自的元素相乘并相加的数学运算被称为**点积**。线性代数的魅力——基本上是操作数组（或数学中所说的向量和矩阵）的艺术——在我们将上述计算一次性应用于多个案例时显示得更加完美。\n",
    "\n",
    "因此， 我们不必每次都编辑程序以更新数据来处理下一个小木屋，并重新运行以获得一次的预测结果，而是可以将多个小木屋情况同时放在一个二维数组中。"
   ]
  },
  {
   "cell_type": "code",
   "execution_count": null,
   "id": "8a7e1e71",
   "metadata": {},
   "outputs": [],
   "source": [
    "import numpy as np\n",
    "\n",
    "x = np.array([[66, 5, 15, 2, 500], \n",
    "              [21, 3, 50, 1, 100]])\n",
    "c = np.array([3000, 200 , -50, 5000, 100])\n",
    "\n",
    "print(x @ c)\n"
   ]
  },
  {
   "cell_type": "markdown",
   "id": "e4eab0d3",
   "metadata": {},
   "source": [
    "注意x赋值那一行使用的是双括号。 数组是由一个二维*列表*构成的，外层列表嵌套了两个1维*列表*，每一个列表包含5个输入参数。\n",
    "\n",
    "到目前为止，我们已经使用了直接的计算方法来获得价格估计，但这实际上并不是你可以用线性回归做的最令人印象深刻的事情。当我们把事情搞得一团糟时，事情就变得有趣了。假设我们知道输入（小屋的特征）和输出（最终价格），并且我们想知道每个特征是如何影响价格的。 换句话说，我们想从包含输入和输出的数据中估计出这些属性所对应的系数。\n",
    "\n",
    "我们很难找到使模型完美预测数据输出的系数，因为实际价格还取决于许多其他因素，而不是我们模型中所包含的特征（尺寸、桑拿房的大小等等）。因此，两个具有完全相同特征的小木屋最终可能以不同的价格出售。或者可能发生的情况是，即使小屋的大小通常具有正的依赖性（较大意味着较高的价格），有时较大的小屋比较小的小屋更容易买到，即使其他特征是固定的。"
   ]
  },
  {
   "cell_type": "markdown",
   "id": "0a70e026",
   "metadata": {},
   "source": [
    "**注意!**\n",
    "\n",
    "有各种原因导致模型一般不能完美地捕捉到所有特征。 这些包括噪音（随机的、 非系统的干扰）、 混杂变量（与输入和输出都相关的特征）、 选择偏差（一些数据点比其他数据更可能最终出现在用于建立模型的数据中）， 等等。 这意味着，你应该始终对模型和结果保持警惕。我们需要了解模型适合何种情况以及数据中是否存在偏差。"
   ]
  },
  {
   "cell_type": "markdown",
   "id": "31112367",
   "metadata": {},
   "source": [
    "估算线性回归的参数是统计学和机器学习的经典问题之一，而这个经典问题最经典的解决方案是19世纪初由Legendre和Gauss提出的所谓**最小二乘法**。 显然，当时并没有使用机器学习这个术语，但新领域（如机器学习和人工智能）采用现有领域（如统计学）的方法， 这并不罕见。\n",
    "\n",
    "该方法之所以被称为最小二乘法，是因为它所做的是优化系数，以使模型的输出和观察到的反应值之间的平方差最小。我们计算数据中每个项目的预测值和观察到的输出值之间的差，取其平方——$x×x=x^2$ ，然后将这些平方相加。 选择特定的系数使这个平方之和尽可能的小.\n",
    "\n",
    "最小二乘法可以精确地解决这个问题。从技术上讲， 这涉及到一些矩阵代数，而我们\n",
    "就不谈这些细节了。幸运的是，有很多`Python`软件包都有现成的对它进行了实现。\n",
    "\n",
    "下面是一个可视化最小二乘法工作原理的小工具。 **运行第一个代码单元**，你会看见两个滑动条，请随意尝试滑动生成新的截距项和系数项。随后**运行第二个**代码单元，你会看见预测线$y=a+b*x$和利用最小二乘法计算的预测线。\n",
    "\n",
    "提示：在生成下面的数据集时，你会注意到有些点是非常散乱的，每当重新运行第二个单元格都会随机生成新的数据点。但最小二乘法仍然试图将它们建模为一条线。 这是一个很好的指标，可以让我们知道在哪些数据集上应用最小二乘法这样的线性模型，而在哪些数据集上则没有意义。"
   ]
  },
  {
   "cell_type": "code",
   "execution_count": null,
   "id": "10a12462",
   "metadata": {},
   "outputs": [],
   "source": [
    "import numpy as np\n",
    "import matplotlib.pyplot as plt\n",
    "import ipywidgets as widgets\n",
    "\n",
    "# 创建滑动条a和b\n",
    "a_slider = widgets.FloatSlider(min=-10, max=10, step=0.1, value=0)\n",
    "b_slider = widgets.FloatSlider(min=-5, max=5, step=0.1, value=0)\n",
    "\n",
    "# 显示滑动条\n",
    "display(widgets.VBox([widgets.Label('截距项'), a_slider, widgets.Label('系数项'), b_slider]))"
   ]
  },
  {
   "cell_type": "code",
   "execution_count": null,
   "id": "37e235a3",
   "metadata": {
    "scrolled": true
   },
   "outputs": [],
   "source": [
    "# 请确保你在github上下载了Lab4_lsmf.py文件并和该文件放置于同一目录下\n",
    "\n",
    "%run -i Lab4_lsmf.py"
   ]
  },
  {
   "cell_type": "markdown",
   "id": "6c6071e9",
   "metadata": {},
   "source": [
    "#### 练习2 <a id='lsr'> </a>\n",
    "##### 练习2.1"
   ]
  },
  {
   "cell_type": "markdown",
   "id": "343d0641",
   "metadata": {},
   "source": [
    "假设我们有一个数据集，其中有三个点，格式为（x， y）。 $$(0， 5），（2，\n",
    "9.6） 和（3.2， 13.6）$$\n",
    "你的舍友分别建立了三个不同的模型来拟合这些数据， 其形式都是y=a+b*x。 他们给了你他们模型的系数，如下所示\n",
    "- a=0.5, b=3.2\n",
    "- a=0, b=1.9\n",
    "- a=7.6, b=1.9\n",
    "\n",
    "哪个选项的平方误差最小？ 你可以使用上面的小工具来帮助你计算误差。\n"
   ]
  },
  {
   "cell_type": "code",
   "execution_count": null,
   "id": "d9ea38fe",
   "metadata": {},
   "outputs": [],
   "source": [
    "# 你的答案是"
   ]
  },
  {
   "cell_type": "markdown",
   "id": "d288abd3",
   "metadata": {},
   "source": [
    "<h5> 练习2.2 </h5>\n",
    "修改程序，使其实现平方误差的计算。 换句话说，你应该计算数据中所有小木屋的预测价格，从实际价格（数据中给出）中减去预测价格，对差值进行平方，然后将它们全部相加。\n",
    "\n",
    "该程序需要适用于任意数量的小木屋和对应的特征。"
   ]
  },
  {
   "cell_type": "code",
   "execution_count": null,
   "id": "43cb8922",
   "metadata": {},
   "outputs": [],
   "source": [
    "import numpy as np\n",
    "\n",
    "X = np.array([66, 5, 15, 2, 500], \n",
    "              [21, 3, 50, 1, 100], \n",
    "              [120, 15, 5, 2, 1200]])\n",
    "y = np.array([250000, 60000, 525000])\n",
    "c = np.array([3000, 200 , -50, 5000, 100]) # 系数值\n",
    " \n",
    "def squared_error(X, y, c):\n",
    "    sse = 0.0\n",
    "    for xi, yi in zip(X, y):\n",
    "        # 在这里添加你的代码：计算预测的价格。\n",
    "        # 从实际价格中减去 yi。\n",
    "        # 用(yi - 预测)**2来平方差额。\n",
    "        # 在变量sse中把所有的差异加起来\n",
    "        # 完成后删除下一行的‘pass’\n",
    "        pass\n",
    "\n",
    "    print(sse)\n",
    "\n",
    "squared_error(X, y, c)\n"
   ]
  },
  {
   "cell_type": "markdown",
   "id": "ea7ca409",
   "metadata": {},
   "source": [
    "<h5> 练习2.3 </h5>\n",
    "编写一个程序来计算多组系数值的平方误差，并打印出产生最小平方误差的组的索引：这是最小二乘法的穷人版本，我们只考虑一组固定的替代系数向量而不是寻找*全局最优值*。"
   ]
  },
  {
   "cell_type": "code",
   "execution_count": null,
   "id": "653a911b",
   "metadata": {},
   "outputs": [],
   "source": [
    "import numpy as np\n",
    "# 数据\n",
    "X = np.array([66, 5, 15, 2, 500], \n",
    "              [21, 3, 50, 1, 100], \n",
    "              [120, 15, 5, 2, 1200]])\n",
    "y = np.array([250000, 60000, 525000])\n",
    "# 备选的系数值集\n",
    "c = np.array([[3000, 200 , -50, 5000, 100], \n",
    "              [2000, -250, -100, 150, 250], \n",
    "              [3000, -100, -150, 0, 150]])   \n",
    "def find_best(X, y, c):\n",
    "    smallest_error = np.Inf\n",
    "    best_index = -1\n",
    "    for coeff in c:\n",
    "        pass # 在此编辑：计算系数集coeff的平方误差之和，并\n",
    "                 # 追踪产生最小平方误差的那一个\n",
    "    print(\"最佳集合是%d\" % best_index)\n",
    "\n",
    "find_best(X, y, c)\n"
   ]
  },
  {
   "cell_type": "markdown",
   "id": "7d4239a0",
   "metadata": {},
   "source": [
    "下面是一个最小二乘法的例子。我们用五间小屋作为数据。数据如下。"
   ]
  },
  {
   "cell_type": "markdown",
   "id": "98d1be3d",
   "metadata": {},
   "source": [
    "<tbody><tr><th></th><th>房屋面积</th><th>桑拿房面积</th><th>离湖距离</th><th>室内洗手间数量</th><th>离邻居距离</th><th>价格（￥）</th></tr><tr><td>1号房</td><td>25</td><td>2</td><td>50</td><td>1</td><td>500</td><td>127,900</td></tr><tr><td>2号房</td><td>39</td><td>3</td><td>10</td><td>1</td><td>1000</td><td>222,100</td></tr><tr><td>3号房</td><td>13</td><td>2</td><td>13</td><td>1</td><td>1000</td><td>143,750</td></tr><tr><td>4号房</td><td>82</td><td>5</td><td>20</td><td>2</td><td>120</td><td>268,000</td></tr><tr><td>5号房</td><td>130</td><td>6</td><td>10</td><td>2</td><td>600</td><td>460,700</td></tr></tbody>"
   ]
  },
  {
   "cell_type": "markdown",
   "id": "6554dd2a",
   "metadata": {},
   "source": [
    "为了计算系数，我们在`numpy`包`linalg`模块中调用函数`lstsq`（用于最小二乘法）"
   ]
  },
  {
   "cell_type": "code",
   "execution_count": null,
   "id": "e1f66d43",
   "metadata": {},
   "outputs": [],
   "source": [
    "import numpy as np\n",
    "\n",
    "\n",
    "x = np.array([\n",
    "             [25, 2, 50, 1, 500], \n",
    "             [39, 3, 10, 1, 1000], \n",
    "             [13, 2, 13, 1, 1000], \n",
    "             [82, 5, 20, 2, 120], \n",
    "             [130, 6, 10, 2, 600]\n",
    "            ])   \n",
    "y = np.array([127900, 222100, 143750, 268000, 460700])\n",
    "\n",
    "c = np.linalg.lstsq(x, y)[0]\n",
    "print(c)\n",
    "print(x @ c)"
   ]
  },
  {
   "cell_type": "markdown",
   "id": "a83776cf",
   "metadata": {},
   "source": [
    "请注意， 系数值是从`lstsq`的返回值中提取出来的，作为第一个元素（或Python索引中的\n",
    "\"第零个 \"元素），在调用结束时写入`[0]`。我们不需要其他的返回值， 这些返回值包括模型对数\n",
    "据的适应程度的信息，因为我们可以自己检查它。\n",
    "\n",
    "还要注意的是，我们同时打印出系数值（$3000、 200、 -50、 5000和100$）和通过在模型中插入这些值并像以前一样使用`@`运算符预测的值。\n",
    "\n",
    "第一个系数的数值为3000，意味着面积每增加一平方米，价格就增加3000元。第三个系数的数值为-50，意味着离湖边每远一米，小屋的价格就会下降50元，或者反过来说，离水体每近一米就得多付50元。\n",
    "\n",
    "第二个输出是数据中五个木屋的预测价格集。$127,900, 222,100, 143,750, 268,000, 和460,700\n",
    "$。你可能注意到了， 这些数字与数据中给出的数组`y`完全相同。那么， 为什么我们之前说线性回归模型将无法完美预测呢？\n",
    "\n",
    "对这五种情况下意外的完美预测的解释是，如果案例的数量小于或等于模型中系数的数量，模型\n",
    "总是能够完美地匹配作为数据的输出值。在上面的例子中，两者都是五，所以完美匹配其实并不\n",
    "奇怪。"
   ]
  },
  {
   "cell_type": "markdown",
   "id": "38ced5ea",
   "metadata": {},
   "source": [
    "<h4> 练习3 用更多的数据进行预测 <a id = 'more'> </a> </h4>\n",
    "<h5> 练习3.1 </h5>"
   ]
  },
  {
   "cell_type": "markdown",
   "id": "3c40143d",
   "metadata": {},
   "source": [
    "<table>\n",
    "    <tbody>\n",
    "   <tr>\n",
    "      <th></th>\n",
    "      <th>房屋面积(c1)</th>\n",
    "      <th>桑拿房面积(c2)</th>\n",
    "      <th>离湖距离(c3)</th>\n",
    "      <th>室内洗手间数量(c4)</th>\n",
    "      <th>离邻居距离(c5)</th>\n",
    "      <th>实际价格（￥）</th>\n",
    "      <th>预测价格（￥）</th>\n",
    "      \n",
    "   </tr>\n",
    "   <tr>\n",
    "      <td>1号房</td>\n",
    "      <td>25</td>\n",
    "      <td>2</td>\n",
    "      <td>50</td>\n",
    "      <td>1</td>\n",
    "      <td>500</td>\n",
    "      <td>127,900</td>\n",
    "      <td>127,900</td>\n",
    "   </tr>\n",
    "   <tr>\n",
    "      <td>2号房</td>\n",
    "      <td>39</td>\n",
    "      <td>3</td>\n",
    "      <td>10</td>\n",
    "      <td>1</td>\n",
    "      <td>1000</td>\n",
    "      <td>222,100</td>\n",
    "      <td>222,100</td>\n",
    "   </tr>\n",
    "   <tr>\n",
    "      <td>3号房</td>\n",
    "      <td>13</td>\n",
    "      <td>2</td>\n",
    "      <td>13</td>\n",
    "      <td>1</td>\n",
    "      <td>1000</td>\n",
    "      <td>143,750</td>\n",
    "      <td>143,750</td>\n",
    "   </tr>\n",
    "   <tr>\n",
    "      <td>4号房</td>\n",
    "      <td>82</td>\n",
    "      <td>5</td>\n",
    "      <td>20</td>\n",
    "      <td>2</td>\n",
    "      <td>120</td>\n",
    "      <td>268,000</td>\n",
    "      <td>268,000</td>\n",
    "   </tr>\n",
    "   <tr>\n",
    "      <td>5号房</td>\n",
    "      <td>130</td>\n",
    "      <td>6</td>\n",
    "      <td>10</td>\n",
    "      <td>2</td>\n",
    "      <td>600</td>\n",
    "      <td>460,700</td>\n",
    "      <td>460,700</td>\n",
    "   </tr>\n",
    "</tbody></table>\n",
    "\n",
    "根据5组数据计算系数：\n",
    "<table>\n",
    "    <tbody>\n",
    "        <tr>\n",
    "            <th disabled=\"\" contenteditable=\"false\">c1</th>\n",
    "            <th disabled=\"\" contenteditable=\"false\">c2</th>\n",
    "            <th disabled=\"\" contenteditable=\"false\">c3</th>\n",
    "            <th disabled=\"\" contenteditable=\"false\">c4</th>\n",
    "            <th disabled=\"\" contenteditable=\"false\">c5</th>\n",
    "        </tr>\n",
    "        <tr>\n",
    "            <td disabled=\"\" contenteditable=\"false\">3000</td>\n",
    "            <td disabled=\"\" contenteditable=\"false\">200</td>\n",
    "            <td disabled=\"\" contenteditable=\"false\">-50</td>\n",
    "            <td disabled=\"\" contenteditable=\"false\">5000</td>\n",
    "            <td disabled=\"\" contenteditable=\"false\">100</td>\n",
    "        </tr>\n",
    "        </tbody></table>"
   ]
  },
  {
   "cell_type": "markdown",
   "id": "196c7ce9",
   "metadata": {},
   "source": [
    "你现在可以通过下面这个单元格输入你想要的第六间小木屋，运行随后的单元格会更新我们的小木屋列表并计算出新的系数。"
   ]
  },
  {
   "cell_type": "code",
   "execution_count": null,
   "id": "011328ce",
   "metadata": {},
   "outputs": [],
   "source": [
    "import ipywidgets as widgets\n",
    "from IPython.display import display\n",
    "\n",
    "# Create the input widgets\n",
    "input1 = widgets.FloatText(value=0.0, description='房屋面积')\n",
    "input2 = widgets.FloatText(value=0.0, description='桑拿房面积')\n",
    "input3 = widgets.FloatText(value=0.0, description='离湖距离')\n",
    "input4 = widgets.FloatText(value=0.0, description='洗手间数量')\n",
    "input5 = widgets.FloatText(value=0.0, description='离邻居距离')\n",
    "input6 = widgets.FloatText(value=0.0, description='实际价格')\n",
    "\n",
    "display(input1)\n",
    "display(input2)\n",
    "display(input3)\n",
    "display(input4)\n",
    "display(input5)\n",
    "display(input6)"
   ]
  },
  {
   "cell_type": "code",
   "execution_count": null,
   "id": "b2f4541b",
   "metadata": {
    "scrolled": true
   },
   "outputs": [],
   "source": [
    "%run -i Lab4_6cabins.py"
   ]
  },
  {
   "cell_type": "markdown",
   "id": "a8115f1b",
   "metadata": {},
   "source": [
    "观察一下6间小木屋的拟合系数和之前5间小木屋的拟合系数，有什么区别？\n",
    "- 没变\n",
    "- 变得更符合实际价格\n",
    "- 变得更不符合实际价格"
   ]
  },
  {
   "cell_type": "code",
   "execution_count": null,
   "id": "eb83da6e",
   "metadata": {},
   "outputs": [],
   "source": [
    "# 你的答案是"
   ]
  },
  {
   "cell_type": "markdown",
   "id": "b0ed3b69",
   "metadata": {},
   "source": [
    "##### 练习3.2 \n",
    "根据下表中第6个小木屋的数据修改代码，使其正确运行并预测6个小木屋的价格。\n",
    "\n",
    "这一练习的目的是在已知系数、训练数据的情况下，利用最小二乘法计算预测价格。"
   ]
  },
  {
   "cell_type": "markdown",
   "id": "68ade0d8",
   "metadata": {},
   "source": [
    "<tbody>\n",
    "            <tr>\n",
    "              <td>1号房</td>\n",
    "              <td>25</td>\n",
    "              <td>2</td>\n",
    "              <td>50</td>\n",
    "              <td>1</td>\n",
    "              <td>500</td>\n",
    "              <td>127,900</td>\n",
    "            </tr>\n",
    "            <tr>\n",
    "              <td>2号房</td>\n",
    "              <td>39</td>\n",
    "              <td>3</td>\n",
    "              <td>10</td>\n",
    "              <td>1</td>\n",
    "              <td>1000</td>\n",
    "              <td>222,100</td>\n",
    "            </tr>\n",
    "            <tr>\n",
    "              <td>3号房</td>\n",
    "              <td>13</td>\n",
    "              <td>2</td>\n",
    "              <td>13</td>\n",
    "              <td>1</td>\n",
    "              <td>1000</td>\n",
    "              <td>143,750</td>\n",
    "            </tr>\n",
    "            <tr>\n",
    "              <td>4号房</td>\n",
    "              <td>82</td>\n",
    "              <td>5</td>\n",
    "              <td>20</td>\n",
    "              <td>2</td>\n",
    "              <td>120</td>\n",
    "              <td>268,000</td>\n",
    "            </tr>\n",
    "            <tr>\n",
    "              <td>5号房</td>\n",
    "              <td>130</td>\n",
    "              <td>6</td>\n",
    "              <td>10</td>\n",
    "              <td>2</td>\n",
    "              <td>600</td>\n",
    "              <td>460,700</td>\n",
    "            </tr>\n",
    "            <tr>\n",
    "              <td>6号房</td>\n",
    "              <td>115</td>\n",
    "              <td>6</td>\n",
    "              <td>10</td>\n",
    "              <td>1</td>\n",
    "              <td>550</td>\n",
    "              <td>407,000</td>\n",
    "            </tr>\n",
    "    </tbody>"
   ]
  },
  {
   "cell_type": "code",
   "execution_count": null,
   "id": "a22d9c2a",
   "metadata": {},
   "outputs": [],
   "source": [
    "import numpy as np\n",
    "\n",
    "\n",
    "def main():\n",
    "    np.set_printoptions(precision=1)\n",
    "\n",
    "    x = np.array(\n",
    "        [\n",
    "            [25, 2, 50, 1, 500], \n",
    "            [39, 3, 10, 1, 1000], \n",
    "            [13, 2, 13, 1, 1000], \n",
    "            [82, 5, 20, 2, 120], \n",
    "            [130, 6, 10, 2, 600]\n",
    "        ]\n",
    "    )   \n",
    "\n",
    "    y = np.array([127900, 222100, 143750, 268000, 460700])\n",
    "\n",
    "    c = np.linalg.lstsq(x, y)[0]\n",
    "    print(c)\n",
    "\n",
    "    print(x @ c)\n",
    "\n",
    "main()\n"
   ]
  },
  {
   "cell_type": "markdown",
   "id": "c6b20211",
   "metadata": {},
   "source": [
    "##### 练习3.3\n",
    "以下代码中定义了`input_string`字符串类型变量，假设这个变量是来自于一个数据集文件（数据集一般是.csv或者.txt格式），我们可以使用` np.genfromtxt(datafile, skip_header=1) `这样来读取.csv文件。这将返回一个 numpy 数组，其中包含最后一列之前的列中的特征数据，以及最后一列中的价格数据。 选项 skip_header=1 只是意味着文件中的第一行应该只包含列名，不应包含在实际数据中。\n",
    "\n",
    "这里我们实际上只会使用 Python 的 `io.StringIO `函数模拟文件输入，该函数采用输入字符串并假装内容来自文件。\n",
    "\n",
    "本题的目的和上题类似，在已知6个小木屋的数据的情况下使用`np.linalg.lstsq`进行数据拟合。"
   ]
  },
  {
   "cell_type": "code",
   "execution_count": null,
   "id": "925a0516",
   "metadata": {},
   "outputs": [],
   "source": [
    "import numpy as np\n",
    "from io import StringIO\n",
    "\n",
    "input_string = '''\n",
    "25 2 50 1 500 127900\n",
    "39 3 10 1 1000 222100\n",
    "13 2 13 1 1000 143750\n",
    "82 5 20 2 120 268000\n",
    "130 6 10 2 600 460700\n",
    "115 6 10 1 550 407000\n",
    "'''\n",
    "\n",
    "np.set_printoptions(precision=1) # 这只是改变了输出设置以方便阅读\n",
    " \n",
    "def fit_model(input_file):\n",
    "    # 请在这个函数中写下你的代码表示读取文件\n",
    "\n",
    "    # 读取数据并进行拟合。下面的值是占位符的值\n",
    "    c = np.asarray([]) # 线性回归的系数\n",
    "    x = np.asarray([]) # 线性回归的输入数据\n",
    "\n",
    "    print(c)\n",
    "    print(x @ c)\n",
    "\n",
    "# 模拟读取一个文件\n",
    "input_file = StringIO(input_string)\n",
    "fit_model(input_file)\n"
   ]
  },
  {
   "cell_type": "markdown",
   "id": "10e66667",
   "metadata": {},
   "source": [
    "从练习中我们观察到当添加第6个小木屋或者新的数据后，通过最小二乘法拟合的直线会产生变化。\n",
    "\n",
    "**更多的数据是否应该导致更好的预测，而不是更糟？**\n",
    "\n",
    "如果你听过人们谈论机器学习，你可能听说过拥有海量数据的大公司是如何占据上风的，因为他们可以构建更好的模型并更准确地预测用户行为等。 在上面的例子中，当我们在数据集中只有五个小木屋时，我们做出了完美的预测，但是当我们得到第六个小木屋的数据时，准确度下降了。\n",
    "\n",
    "对此的解释与训练数据和测试数据之间的区别有关。 在上面的示例中，我们在训练模型时评估了**相同数据**的预测准确性，就是说我们是对已知的5个小木屋预测价格，所以达成完美精度，但是现实中我们应该是对**未知**的数据，称作测试集，进行拟合。稍后我们将回到这个非常重要的问题及其对机器学习的影响。"
   ]
  },
  {
   "cell_type": "markdown",
   "id": "0432c6a0",
   "metadata": {},
   "source": [
    "<h4> 练习4 训练数据和测试数据  <a id='data'></a> </h4>\n",
    "<h5> 练习4.1 </h5>"
   ]
  },
  {
   "cell_type": "markdown",
   "id": "5d998d6c",
   "metadata": {},
   "source": [
    "假设通过学习我们已经得到了最佳系数，运行以下代码查看预测价格。"
   ]
  },
  {
   "cell_type": "markdown",
   "id": "55c812a1",
   "metadata": {},
   "source": [
    "<tbody>\n",
    "        <tr> <br />\n",
    "            <th></th>\n",
    "            <th>房间面积</th>\n",
    "            <th>桑拿房面积</th>\n",
    "            <th>离水距离</th>\n",
    "            <th>室内洗手间数量</th>\n",
    "            <th>离邻居距离</th>\n",
    "            <th>实际价格</th>\n",
    "        </tr>\n",
    "        <tr>\n",
    "            <td>7号房</td> \n",
    "            <td>36</td>\n",
    "            <td>3</td> \n",
    "            <td>15</td> \n",
    "            <td>1</td>\n",
    "            <td>850</td> \n",
    "            <td>196000</td>\n",
    "        </tr>\n",
    "        <tr>\n",
    "            <td>8号房</td>\n",
    "            <td>75</td>\n",
    "            <td>5</td>\n",
    "            <td>18</td>\n",
    "            <td>2</td>\n",
    "            <td>540</td> \n",
    "            <td>290000</td>\n",
    "        </tr>   \n",
    "    </tbody>"
   ]
  },
  {
   "cell_type": "code",
   "execution_count": null,
   "id": "0f1c095d",
   "metadata": {},
   "outputs": [],
   "source": [
    "import numpy as np\n",
    "\n",
    "fixed_c = [3000, 200, -50, 5000, 100]\n",
    "def pred():\n",
    "    np.set_printoptions(precision=1)\n",
    "    x = np.array(\n",
    "        [\n",
    "            [36, 3, 15, 1, 850],\n",
    "            [75, 5, 18, 2, 540]\n",
    "        ]\n",
    "    )\n",
    "    new_result = x @ fixed_c\n",
    "    return new_result\n",
    "\n",
    "\n",
    "new_result = pred()\n",
    "print('7号房预测价格： {:.2f} ￥\\n8号房预测价格： {:.2f} ￥'.format(new_result[0],new_result[1]))"
   ]
  },
  {
   "cell_type": "markdown",
   "id": "174c3f6b",
   "metadata": {},
   "source": [
    "我们之前能够完美地预测五个木屋的价格，但为什么现在出现了错误？\n",
    "- 因为在这个数据集中只有两个小木屋\n",
    "- 因为现在我们使用的是之前学习的系数用于预测新的数据\n",
    "- 因为小木屋的大小（40平方米和220平方米） 相差太远"
   ]
  },
  {
   "cell_type": "code",
   "execution_count": null,
   "id": "2de56d5f",
   "metadata": {},
   "outputs": [],
   "source": [
    "# 你的答案是"
   ]
  },
  {
   "cell_type": "markdown",
   "id": "d2a97fa9",
   "metadata": {},
   "source": [
    "<h5> 练习4.2 </h5>\n",
    "根据练习4.1提供的7号和8号木屋数据修改以下代码，使得结果输出的是7号房和8号房的预测价格。"
   ]
  },
  {
   "cell_type": "code",
   "execution_count": null,
   "id": "ad9f03f6",
   "metadata": {},
   "outputs": [],
   "source": [
    "import numpy as np\n",
    "def main():\n",
    "    np.set_printoptions(precision=1) # 这只是改变了输出设置以方便阅读\n",
    "    x_train = np.array(\n",
    "        [\n",
    "            [25, 2, 50, 1, 500], \n",
    "            [39, 3, 10, 1, 1000], \n",
    "            [13, 2, 13, 1, 1000], \n",
    "            [82, 5, 20, 2, 120], \n",
    "            [130, 6, 10, 2, 600],\n",
    "            [115, 6, 10, 1, 550 ]\n",
    "        ]\n",
    "    )   \n",
    "    \n",
    "    y_train = np.array([127900, 222100, 143750, 268000, 460700, 407000])\n",
    "    # 在这里添加两个新木屋的特征数据。注意：不包括实际价格\n",
    "    x_test = None\n",
    "    c = np.linalg.lstsq(x_train, y_train, rcond=-1)[0] 。\n",
    "    # 修改这里，使得打印出2个新木屋的预测价格\n",
    "    print(x_train @ c)\n",
    "main()\n"
   ]
  },
  {
   "cell_type": "markdown",
   "id": "5628e13b",
   "metadata": {},
   "source": [
    "<h5> 练习4.3 </h5>\n",
    "现在请大家完整的重复一遍学习“训练数据”以及根据系数预测“测试数据”这样的流程。我们使用traininig data和test data表示‘训练’和‘测试’。"
   ]
  },
  {
   "cell_type": "markdown",
   "id": "fe46f42a",
   "metadata": {},
   "source": [
    "<pre>training data</pre>\n",
    "<table>\n",
    "    <tbody>\n",
    "        <tr>\n",
    "            <th>房间大小</th>\n",
    "            <th>桑拿房大小</th>\n",
    "            <th>离水距离r</th>\n",
    "            <th>室内洗手间数量</th>\n",
    "            <th>离邻居距离</th>\n",
    "            <th>实际价格</th>\n",
    "        </tr>\n",
    "\t\t<tr>\n",
    "\t\t\t<td>25</td>\n",
    "\t\t\t<td>2</td>\n",
    "\t\t\t<td>50</td>\n",
    "\t\t\t<td>1</td>\n",
    "\t\t\t<td>500</td>\n",
    "\t\t\t<td>127900</td>\n",
    "\t\t</tr>\n",
    "\t\t<tr>\n",
    "\t\t\t<td>39</td>\n",
    "\t\t\t<td>3</td>\n",
    "\t\t\t<td>10</td>\n",
    "\t\t\t<td>1</td>\n",
    "\t\t\t<td>1000</td>\n",
    "\t\t\t<td>222100</td>\n",
    "\t\t</tr>\n",
    "\t\t<tr>\n",
    "\t\t\t<td>13</td>\n",
    "\t\t\t<td>2</td>\n",
    "\t\t\t<td>13</td>\n",
    "\t\t\t<td>1</td>\n",
    "\t\t\t<td>1000</td>\n",
    "\t\t\t<td>143750</td>\n",
    "\t\t</tr>\n",
    "\t\t<tr>\n",
    "\t\t\t<td>82</td>\n",
    "\t\t\t<td>5</td>\n",
    "\t\t\t<td>20</td>\n",
    "\t\t\t<td>2</td>\n",
    "\t\t\t<td>120</td>\n",
    "\t\t\t<td>268000</td>\n",
    "\t\t</tr>\n",
    "\t\t<tr>\n",
    "\t\t\t<td>130</td>\n",
    "\t\t\t<td>6</td>\n",
    "\t\t\t<td>10</td>\n",
    "\t\t\t<td>2</td>\n",
    "\t\t\t<td>600</td>\n",
    "\t\t\t<td>460700</td>\n",
    "\t\t</tr>\n",
    "\t\t<tr>\n",
    "\t\t\t<td>115</td>\n",
    "\t\t\t<td>6</td>\n",
    "\t\t\t<td>10</td>\n",
    "\t\t\t<td>1</td>\n",
    "\t\t\t<td>550</td>\n",
    "\t\t\t<td>407000</td>\n",
    "\t\t</tr>\n",
    "    </tbody>\n",
    "</table>\n",
    "\n",
    "<pre>test data</pre>\n",
    "<table>\n",
    "    <tbody>\n",
    "        <tr>\n",
    "            <th>房间大小</th>\n",
    "            <th>桑拿房大小</th>\n",
    "            <th>离水距离r</th>\n",
    "            <th>室内洗手间数量</th>\n",
    "            <th>离邻居距离</th>\n",
    "            <th>实际价格</th>\n",
    "        </tr>\n",
    "        <tr>\n",
    "            <td>36</td>\n",
    "            <td>3</td>\n",
    "            <td>15</td>\n",
    "            <td>1</td>\n",
    "            <td>850</td>\n",
    "            <td>196000</td>\n",
    "        </tr>\n",
    "        <tr>\n",
    "            <td>75</td>\n",
    "            <td>5</td>\n",
    "            <td>18</td>\n",
    "            <td>2</td>\n",
    "            <td>540</td>\n",
    "            <td>290000</td>\n",
    "        </tr>\n",
    "    </tbody>\n",
    "</table>"
   ]
  },
  {
   "cell_type": "code",
   "execution_count": null,
   "id": "760b5bc2",
   "metadata": {},
   "outputs": [],
   "source": [
    "import numpy as np\n",
    "from io import StringIO\n",
    "\n",
    "train_string = '''\n",
    "25 2 50 1 500 127900\n",
    "39 3 10 1 1000 222100\n",
    "13 2 13 1 1000 143750\n",
    "82 5 20 2 120 268000\n",
    "130 6 10 2 600 460700\n",
    "115 6 10 1 550 407000\n",
    "'''\n",
    "test_string = '''\n",
    "36 3 15 1 850 196000\n",
    "75 5 18 2 540 290000\n",
    "'''\n",
    "def main():\n",
    "    np.set_printoptions(precision=1) # 这只是改变了输出设置以方便阅读\n",
    "    \n",
    "    # 请在此函数中编写你的代码\n",
    "    # 读取训练数据并将其分为x_train和y_train两部分\n",
    "     \n",
    "    # 对数据进行线性回归模型的拟合，并得到系数\n",
    "    c = np.asarray([] )\n",
    "    # 读取测试数据并从中分离出x_test\n",
    "    x_test = np.asarray([] )\n",
    "    # 打印出线性回归的系数\n",
    "    print(c)\n",
    "    # 这将打印出测试数据集中两个新船舱的预测价格\n",
    "    print(x_test @ c)\n",
    "\n",
    "main()\n"
   ]
  },
  {
   "cell_type": "markdown",
   "id": "a2e8587f",
   "metadata": {},
   "source": [
    "## 最近邻算法 <a id='nearest'></a>"
   ]
  },
  {
   "cell_type": "markdown",
   "id": "3bd827f2",
   "metadata": {},
   "source": [
    "在从统计学中借用的无数机器学习方法中，线性回归是一个绝对的经典。在计算机科学家发明的较新的方法中——至少与19世纪初相比是较新的--所谓的近邻法也是一种同样经典的技术。 最近的邻居方法是可以想象到的最简单的方法。然而，它并不容易对付：一个有抱负的机器学习研究者往往会因为他们的最新发明被古老的近邻法打败而感到惭愧。 \n",
    "\n",
    "最近邻算法可以用于回归和分类任务。在回归中， 任务是预测一个连续的值，例如一个小屋的价格，而在分类中，输出是一个从有限的备选方案中选择的标签，例如生病或健康。 \n",
    "\n",
    "为了量化一个项目与另一个项目的距离，我们需要定义一个距离度量。这个词所隐含的比喻非常明显：在日常生活中，你可以说南京离北京比它离上海更远，通过计算它们相距多少米。这个距离是在一个二维的地形上（在地球表面）计算出来的。为了简化问题，我们可以假装这个表面是平的——有点像 \"平地协会\"！每个城市的位置都是平的。每个城市的位置都用一个所谓的笛卡尔坐标系表示。这样一来，距离就可以通过将X坐标和Y坐标的差值的平方相加，然后取其平方根来计算。例如，南京和上海之间的距离将是。\n",
    "$$D_{nj,sh} = \\sqrt{(x_{nj}-x_{sh})^2+(y_{nj}-y_{sh})^2}$$\n",
    "\n",
    "其中$x_{nj},y_{nj}$是南京的坐标，$x_{sh},y_{sh}$是上海的坐标。这被称为**欧几里得距离**。特别是对于长距离来说，由于地球表面的曲率，它实际上并不能给出真正的距离（对不起，平地人！），但这对我们来说没有什么影响，因为我们将在抽象的、非地理坐标上使用它。\n",
    "\n",
    "也许你会发现用下面的Python表达式来阅读这个问题会更容易。\n",
    "\n",
    "`D = math.sqrt((x_nj - x_sh)**2 + (y_nj - y_sh) **2)`\n",
    "\n",
    "它们的意思完全一样。\n",
    "\n",
    "类似地，我们可以通过考虑以平方米为单位的尺寸、与湖泊的距离以及任何其他输入特征作为坐标，计算出距离湖泊10米的34平方米的1号房和距离湖泊50米的49平方米的2号房之间的差异或\"距离\"。有了上述两个特征， 1号和2号木屋之间的距离将变成。\n",
    "$$D_{1,2} = \\sqrt{(34-49)^2+(10-50)^2} = \\sqrt{15^2+40^2} = \\sqrt{1825} ≈ 42.72$$\n",
    "\n",
    "在Python代码中，我们可以将上述内容写成\n",
    "```python\n",
    "x1 = [34.0, 10.0]\n",
    "x2 = [49.0, 50.0]\n",
    "D = math.sqrt((x1[0] - x2[0])**2 + (x1[1] - x2[1]) **2)\n",
    "```\n",
    "我们也可以把卫生间的数量等纳入到距离计算中，只需把卫生间数量的平方差列入平方根内的总和。\n",
    "\n",
    "在数学上，我们将输入特征的列表称为*向量*。在编码方面，它们是*列表*或一维数组。在下文中，我们将使用这两个术语。"
   ]
  },
  {
   "cell_type": "markdown",
   "id": "7abac53a",
   "metadata": {},
   "source": [
    "<h4> 练习5 向量距离<a id='vector'></a></h4>\n",
    "<h5> 练习5.1 </h5>"
   ]
  },
  {
   "cell_type": "markdown",
   "id": "d50a36c6",
   "metadata": {},
   "source": [
    "$a = [14, 3, 0.8]$, $b = [2, 6, 0.8]$ 这两点之间的欧式距离是多少？选择正确答案\n",
    "- 12.37\n",
    "- 153\n",
    "- 13.68"
   ]
  },
  {
   "cell_type": "code",
   "execution_count": null,
   "id": "2c289db4",
   "metadata": {},
   "outputs": [],
   "source": [
    "# 你的答案是"
   ]
  },
  {
   "cell_type": "markdown",
   "id": "9188e83d",
   "metadata": {},
   "source": [
    "<h5> 练习5.2</h5>\n",
    "以下哪项正确计算了两个向量之间的欧氏距离？ 你可以假设包含向量的数组 a 和 b 的长度相等。\n",
    "\n",
    "**选项A**\n",
    "\n",
    "```python\n",
    "import numpy as np\n",
    "\n",
    "def dist(a, b):\n",
    "    sum = 0\n",
    "    for ai, bi in zip(a, b):\n",
    "        sum = sum + (ai - bi)**2\n",
    "    return np.sqrt(sum)\n",
    "```\n",
    "\n",
    "**选项B**\n",
    "\n",
    "```python\n",
    "import numpy as np\n",
    "\n",
    "def dist(a, b):\n",
    "    sum_a = 0\n",
    "    sum_b = 0\n",
    "    for ai in a:\n",
    "        sum_a = sum_a + ai\n",
    "    for bi in b:\n",
    "        sum_b = sum_b + bi\n",
    "    return np.sqrt((sum_a - sum_b)**2)\n",
    "```"
   ]
  },
  {
   "cell_type": "code",
   "execution_count": null,
   "id": "8c82a966",
   "metadata": {},
   "outputs": [],
   "source": [
    "# 你的答案是"
   ]
  },
  {
   "cell_type": "markdown",
   "id": "3e53484b",
   "metadata": {},
   "source": [
    "<h5>练习5.3</h5>\n",
    "\n",
    "给定一个包含多个输入向量（“训练数据”）的数组`x_train`和另一个包含一个输入向量（“测试数据”）的数组 `x_test`。 在 `x_train` 中找到与 `x_test` 中的向量最相似的向量。 也就是说，找到测试数据点 `x_test` 的最近邻。\n",
    "\n",
    "代码模板给出了函数`dist`来计算任意两个向量之间的距离。 你需要添加的是 `nearest` 函数的实现，该函数采用数组 `x_train` 和 `x_test` 并打印最近邻居的索引（作为 $0, ..., len(x_train)-1$ 之间的整数）。"
   ]
  },
  {
   "cell_type": "code",
   "execution_count": null,
   "id": "e074ccb4",
   "metadata": {},
   "outputs": [],
   "source": [
    "import numpy as np\n",
    "x_train = np.random.rand(10, 3) # 产生10个3维的随机向量\n",
    "x_test = np.random.rand(3) # 再生成一个相同维度的随机向量\n",
    "\n",
    "def dist(a, b):\n",
    "    sum = 0\n",
    "    for ai, bi in zip(a, b):\n",
    "        sum = sum + (ai - bi)**2\n",
    "    return np.sqrt(sum)    \n",
    "\n",
    "def nearest(x_train, x_test):\n",
    "    nearest = -1\n",
    "    min_distance = np.Inf\n",
    "    # 在这里添加一个循环，遍历x_train中的所有向量\n",
    "    # 并找出和x_test值最接近的一项的索引值\n",
    "\n",
    "    print(nearest)\n",
    "\n",
    "nearest(x_train, x_test)\n",
    "\n"
   ]
  },
  {
   "cell_type": "markdown",
   "id": "690dbc4e",
   "metadata": {},
   "source": [
    "这是一小段代码，使用与上一节相同的小木屋定价数据。 它使用来自四个小屋的训练数据来预测测试数据中另外两个小屋的价格。"
   ]
  },
  {
   "cell_type": "code",
   "execution_count": null,
   "id": "08ee4de7",
   "metadata": {},
   "outputs": [],
   "source": [
    "import math\n",
    "import numpy as np\n",
    "\n",
    "x_train = np.array([[25, 2, 50, 1, 500], \n",
    "                  [39, 3, 10, 1, 1000],    \n",
    "                  [82, 5, 20, 2, 120], \n",
    "                  [130, 6, 10, 2, 600]])\n",
    "y_train = [127900, 222100, 268000, 460700]。\n",
    "x_test = np.array([[115, 6, 10, 1, 560], [13, 2, 13, 1, 1000]] )\n",
    "\n",
    "def dist(a, b):\n",
    "    sum = 0\n",
    "    for ai, bi in zip(a, b):\n",
    "        sum = sum + (ai - bi)**2\n",
    "    返回 np.sqrt(sum)\n",
    "n_train = len(x_train) # 训练集的数据点数量\n",
    "for test_item in x_test:\n",
    "    d = np.empty(n_train) # d将保存这个测试数据点和所有训练数据点之间的距离\n",
    "    for i, train_item in enumerate(x_train):\n",
    "        d[i] = dist(test_item, train_item)\n",
    "    nearest_index = np.argmin(d) # 最近的邻居将出现在y_train[nearest]中\n",
    "    print(y_train[nearest_index])"
   ]
  },
  {
   "cell_type": "markdown",
   "id": "0eaf1f90",
   "metadata": {},
   "source": [
    "让我们来剖析一下这段代码。 外侧的`for`循环会经过两个测试数据项。对于每个测试数据项，我们计算与内循环 中每个训练数据项的距离。为了计算距离，我们定义了一个函数`dist`。然后我们使用`np.argmin`函数找到距离最短的项目的索引。这就是最近的邻居。 \n",
    "\n",
    "如果你看一下上述程序的输出，你会发现两个测试数据的预测价格是460,700元和222,100元。在比较结果时，第一个小屋的预测价格似乎是合理的，它和训练集中最后一个小屋的面积都比较大，所以选取其作为最近邻。\n",
    "\n",
    "但是为什么测试集中第二个小屋会选训练集中的第二个小屋作为最近的邻居？ 正如我们所提到的，距离是用欧氏距离计算的，它是几何学中常见的直线距离。在这种情况下，我们要评估其距离的向量是由五个特征的数值定义的。在小木屋的案例中，屋内面积在13至130平方米之间，而离邻居小木屋的距离在120至1000米之间，因此很明显，当只比较数值时，离邻居的距离的差异要比房屋面积的差异大得多。\n",
    "\n",
    "事实上 ，在上述案例中，如果我们只根据离邻居距离的差异进行比较，那么13平方米的小屋的最近邻也就是39平方米的小屋。\n"
   ]
  },
  {
   "cell_type": "markdown",
   "id": "0640e36e",
   "metadata": {},
   "source": [
    "使用欧几里得距离来比较小木屋可能有点不合适，因为每个维度（或特征）都是用相同的比例进行比较听起来不太合理。比如有两个在面积上相差100平方米的小屋，其他属性全部一致和，两个完全一致的小屋除了一个离邻居900米，一个1000米。100米的距离差异与100平方米的面积差异相比，可能被认为是相对微不足道的。此外，我们还可以选择用平方米来测量面积，这样100个单位的差异会更小，或者甚至可以用平方厘米来测量。\n",
    "\n",
    "距离的定义对近邻方法的准确性产生很大的影响。通常情况下，特征都是按比例排列的，因此它们都有相同的方差，所以在距离计算中的权重或重要性大致相同。当然，欧几里得距离只是许多不同距离度量中的一种。还有一种简单易懂（尽管可能不是最常用的）的度量叫做曼哈顿（或出租车）度量，它的距离计算只考虑坐标的绝对差异。想象一下一个大小相同的网格状城市：鉴于您在任何方向上都在向目标靠近，您选择哪条路线并不重要。"
   ]
  },
  {
   "cell_type": "markdown",
   "id": "67b5ea1d",
   "metadata": {},
   "source": [
    "<h4> 练习6 <a id='neighbor'></a></h4>\n",
    "<h5> 练习6.1 </h5>  "
   ]
  },
  {
   "cell_type": "markdown",
   "id": "400f4643",
   "metadata": {},
   "source": [
    "![knn](traintest.png)\n",
    "\n",
    "在上图中，我们展示了一组训练数据项，其中一些属于一个类别（紫色/星星），一些属于另一个类别（蓝色/圆圈）。此外，还有两个测试数据项，即字母（ A和B），我们要用最近的邻居方法对它们进行分类。这两个字母属于哪个类别？\n",
    "\n",
    "+ 如果根据单个最近的邻居的颜色进行分类\n",
    "    - A是紫色，B是蓝色\n",
    "    - A是蓝色，B是紫色\n",
    "    - 都是蓝色\n",
    "    - 都是紫色\n",
    "    \n",
    "    \n",
    "+ 如果根据五个最近的邻居的颜色来进行分类\n",
    "    - A是蓝色， B是紫色\n",
    "    - A是紫色， B是蓝色\n",
    "    - 都是蓝色\n",
    "    - 都是紫色 \n",
    "    \n",
    "    \n",
    "+ 忽略上图，如果你通过K个邻居的类别来确定一个测试项目的类别，其中K等于你在训练集中的数据点的数量，会发生什么？\n",
    "    - 它的效果很好：你与更多的数据点进行比较，所以你能得到一个更精确的类的估计\n",
    "    - 你把一切都归类为最突出的类别\n",
    "    - 你不能对任何东西进行分类，因为该算法只对少量的邻居有效。"
   ]
  },
  {
   "cell_type": "code",
   "execution_count": null,
   "id": "f6a79cd8",
   "metadata": {},
   "outputs": [],
   "source": [
    "# 你的答案是"
   ]
  },
  {
   "cell_type": "markdown",
   "id": "cd9241d4",
   "metadata": {},
   "source": [
    "<h5> 练习6.2 </h5>\n",
    "\n",
    "下面的程序使用库 sklearn 生成随机数据集。 你不需要熟悉 sklearn，我们在下面解释了所有必要的信息，首先`!pip install scikit-learn`会确保你安装了它。 \n",
    "\n",
    "数据集中的每个样本都有两个输入特征 `X` 和一个二进制输出类 `y`。 我们可以把样本想象成一个小木屋，它的大小和价格是它的输入特征，我们喜欢它 (1) 还是不喜欢它 (0) 作为它的输出类别。\n",
    "\n",
    "该计划的目标是根据最近邻的等级对小木屋进行分类。 也就是说，根据我们对具有最相似输入特征的另一个小屋的看法，预测我们是否喜欢这个新的小屋。\n",
    "\n",
    "该程序首先生成随机数据集并将其拆分为训练集和测试集。 然后，对于测试集中的每个小屋，它使用距离函数从训练集中的小屋中识别最近的邻居。 但是程序初始设定是不喜欢所有的新的小木屋，所以`y_predict[i] = 0`。\n",
    "\n",
    "你的目标是根据最近邻的输出类别`y_train`预测测试集中每个小屋的输出类别`y_predict`，从而使程序更智能。"
   ]
  },
  {
   "cell_type": "code",
   "execution_count": null,
   "id": "b153d90c",
   "metadata": {},
   "outputs": [],
   "source": [
    "!pip install -i https://pypi.tuna.tsinghua.edu.cn/simple scikit-learn"
   ]
  },
  {
   "cell_type": "code",
   "execution_count": null,
   "id": "645eb77e",
   "metadata": {
    "scrolled": true
   },
   "outputs": [],
   "source": [
    "import numpy as np\n",
    "from sklearn.datasets import make_blobs\n",
    "from sklearn.preprocessing import MinMaxScaler\n",
    "from sklearn.model_selection import train_test_split\n",
    "\n",
    "# 创建具有两个类的随机数据\n",
    "X, y = make_blobs(n_samples=16, n_features=2, centers=2, center_box=(-2, 2))\n",
    "# 缩放数据，使所有数值都在0.0和1.0之间\n",
    "X = MinMaxScaler().fit_transform(X)\n",
    "# 从数据中分割出2个数据点作为测试数据，并用剩下的n-2个点作为训练数据\n",
    "X_train, X_test, y_train, y_test = train_test_split(X, y, test_size=2)\n",
    "# 预测类的占位符\n",
    "y_predict = np.empty(len(y_test), dtype=np.int64)\n",
    "\n",
    "# 产生连接测试数据点的线段，用于绘制图表的最近的邻居\n",
    "lines = []\n",
    "\n",
    "# 距离函数\n",
    "def dist(a, b):\n",
    "    sum = 0\n",
    "    for ai, bi in zip(a, b):\n",
    "        sum = sum + (ai - bi)**2\n",
    "    return np.sqrt(sum)\n",
    "\n",
    "def main(X_train, X_test, y_train, y_test):\n",
    "    global y_predict\n",
    "    global lines\n",
    "    \n",
    "    # 处理每个测试数据点\n",
    "    for i, test_item in enumerate(X_test):\n",
    "        # 计算与所有训练点的距离\n",
    "        distances = [dist(train_item, test_item) for train_item in X_train]\n",
    "        # 找到最近的邻居的索引\n",
    "        nearest = np.argmin(distances)\n",
    "        # 为图表创建一条连接各点的线\n",
    "        lines.append(np.stack((test_item, X_train[nearest])))\n",
    "        # 在这里修改代码\n",
    "        y_predict[i] = 0 # 所有i项都是0，表示全部不喜欢\n",
    "    print('预测是否喜欢？')\n",
    "    print(y_predict)\n",
    "\n",
    "main(X_train, X_test, y_train, y_test)"
   ]
  },
  {
   "cell_type": "markdown",
   "id": "addf7832",
   "metadata": {},
   "source": [
    "当你完成函数后可以运行以下代码。你会看到一张数据分布图，其中灰色圆点表示训练集中y=1的数据点，红色圆点表示数据集中y=0的数据点。五角星表示2个测试数据，他们和与其最近的数据相关联。如果相关联的两个数据点颜色一致，表明预测正确，否则错误。\n",
    "\n",
    "由于数据是随机生成的，你可以多次重复运行上一单元格代码以及下一单元格代码查看结果。"
   ]
  },
  {
   "cell_type": "code",
   "execution_count": null,
   "id": "d0325f76",
   "metadata": {},
   "outputs": [],
   "source": [
    "import numpy as np\n",
    "import matplotlib.pyplot as plt\n",
    "plt.rcParams['font.sans-serif'] = ['SimHei'] # 设置中文显示\n",
    "plt.rcParams['axes.unicode_minus'] = False #用来正常显示负号\n",
    "\n",
    "# 创建所有数据点的散点图\n",
    "plt.scatter(X[:, 0], X[:, 1], c=y, cmap='Set1', marker='*', s=100)\n",
    "\n",
    "# 根据训练数据点的类别，对其进行不同的着色\n",
    "plt.scatter(X_train[y_train == 0, 0], X_train[y_train == 0, 1], color=[0.89411765, 0.10196078, 0.10980392], s=200)\n",
    "plt.scatter(X_train[y_train == 1, 0], X_train[y_train == 1, 1], color=[0.6 , 0.6 , 0.6 ] , s=200)\n",
    "\n",
    "# 从每个测试点到其最近的邻居画一条线，颜色与邻居相同\n",
    "for line in lines:\n",
    "    h, v = line.T\n",
    "    plt.plot(h, v, '-k')\n",
    "\n",
    "# 设置绘图标签和标题\n",
    "plt.title('最近邻图')\n",
    "\n",
    "# 显示绘图\n",
    "plt.show()\n"
   ]
  },
  {
   "cell_type": "markdown",
   "id": "5af36c81",
   "metadata": {},
   "source": [
    "<h5> 练习6.3 </h5>\n",
    "\n",
    "本题目的和上一题相同，但是我们现在不是关注最邻近的数据点，而是最近**3**个数据点。观察并理解以下代码。\n",
    "\n",
    "提示 1：在计算完 D 中的所有距离后（请参见下面的代码），你可以使用 `np.argsort` 以距离递增方式进行排序。\n",
    "\n",
    "提示 2：使用`np.round(np.mean(y))` 获得类标签，其中 `y` 是包含最近3个邻居的类别标签的列表，使用`np.mean`对`y`列表求平均值，如果>0.5,就认为属于类别$1$，否则属于类别$0$。 "
   ]
  },
  {
   "cell_type": "code",
   "execution_count": null,
   "id": "2e557def",
   "metadata": {},
   "outputs": [],
   "source": [
    "import numpy as np\n",
    "from sklearn.datasets import make_blobs\n",
    "from sklearn.preprocessing import MinMaxScaler\n",
    "from sklearn.model_selection import train_test_split\n",
    "\n",
    "# 创建具有两个类的随机数据\n",
    "X, Y = make_blobs(n_samples=16, n_features=2, centers=2, center_box=(-2, 2))\n",
    "# 缩放数据，使所有数值都在0.0和1.0之间\n",
    "X = MinMaxScaler().fit_transform(X)\n",
    "# 从数据中分割出两个数据点作为测试数据，用剩下的n-2个点作为训练数据\n",
    "X_train, X_test, y_train, y_test = train_test_split(X, Y, test_size=2)\n",
    "# 预测类的占位符\n",
    "y_predict = np.empty(len(y_test), dtype=np.int64)\n",
    "# 产生连接测试数据点的线段，用于绘制图表的最近的邻居\n",
    "lines = []\n",
    "\n",
    "# 距离函数\n",
    "def dist(a, b):\n",
    "    sum = 0\n",
    "    for ai, bi in zip(a, b):\n",
    "        sum = sum + (ai - bi) ** 2\n",
    "    return np.sqrt(sum)\n",
    "\n",
    "\n",
    "def main(X_train, X_test, y_train, y_test):\n",
    "    global y_predict\n",
    "    global lines\n",
    "    k = 3  # 根据3个最近的邻居的类别对我们的测试项目进行分类\n",
    "    # 处理每个测试数据点\n",
    "    for i, test_item in enumerate(X_test):\n",
    "        # 计算与所有训练点的距离\n",
    "        distances = [dist(train_item, test_item) for train_item in X_train]\n",
    "        \n",
    "        # 在这里添加你的代码\n",
    "        \n",
    "        nearest = np.argmin(distances)  # 这只是找到最近的邻居(所以k=1)\n",
    "        \n",
    "        # 为图表创建一条连接各点的线      \n",
    "        lines.append(np.stack((test_item, X_train[nearest])))\n",
    "        y_predict[i] = 0  # 假设全部是0，不喜欢，需要修改\n",
    "    \n",
    "    print('预测是否喜欢？')\n",
    "    print(y_predict)\n",
    "\n",
    "main(X_train, X_test, y_train, y_test)\n"
   ]
  },
  {
   "cell_type": "markdown",
   "id": "f2f71e2a",
   "metadata": {},
   "source": [
    "你同样可以在代码写完后运行以下单元格查看画图情况。"
   ]
  },
  {
   "cell_type": "code",
   "execution_count": null,
   "id": "e4cddd92",
   "metadata": {},
   "outputs": [],
   "source": [
    "import numpy as np\n",
    "import matplotlib.pyplot as plt\n",
    "plt.rcParams['font.sans-serif'] = ['SimHei'] # 设置中文显示\n",
    "plt.rcParams['axes.unicode_minus'] = False #用来正常显示负号\n",
    "\n",
    "# 创建所有数据点的散点图\n",
    "plt.scatter(X[:, 0], X[:, 1], c=y, cmap='Set1', marker='*', s=100)\n",
    "\n",
    "# 根据训练数据点的类别，对其进行不同的着色\n",
    "plt.scatter(X_train[y_train == 0, 0], X_train[y_train == 0, 1], color=[0.89411765, 0.10196078, 0.10980392], s=200)\n",
    "plt.scatter(X_train[y_train == 1, 0], X_train[y_train == 1, 1], color=[0.6 , 0.6 , 0.6 ] , s=200)\n",
    "\n",
    "# 从每个测试点到其最近的邻居画一条线，颜色与邻居相同\n",
    "for line in lines:\n",
    "    h, v = line.T\n",
    "    plt.plot(h, v, '-k')\n",
    "\n",
    "# 设置绘图标签和标题\n",
    "plt.title('最近邻图')\n",
    "\n",
    "# 显示绘图\n",
    "plt.show()\n"
   ]
  },
  {
   "cell_type": "markdown",
   "id": "c6658e5c",
   "metadata": {},
   "source": [
    "恭喜你完成了实验三的练习"
   ]
  },
  {
   "cell_type": "markdown",
   "id": "82ea40cf",
   "metadata": {},
   "source": [
    "<a id='lift'></a>\n",
    "电梯推介指的是在短时间内向潜在投资者或客户介绍一个项目或产品的行为。它的名字来源于人们在电梯里相遇并进行短暂交谈的场景，因此讲述者需要在极短的时间内介绍项目或产品的重要特点，以便能够引起对方的兴趣和好奇心。电梯推介通常被用于商业领域中，例如创业公司向潜在投资者展示他们的业务计划。它也可以应用于各种社交场合，例如聚会、会议等。电梯推介的目的是在短时间内让听众了解项目或产品，并引起他们的兴趣，以便进一步的沟通和商业机会。\n",
    "[返回](#LR)"
   ]
  }
 ],
 "metadata": {
  "kernelspec": {
   "display_name": "Python 3 (ipykernel)",
   "language": "python",
   "name": "python3"
  },
  "language_info": {
   "codemirror_mode": {
    "name": "ipython",
    "version": 3
   },
   "file_extension": ".py",
   "mimetype": "text/x-python",
   "name": "python",
   "nbconvert_exporter": "python",
   "pygments_lexer": "ipython3",
   "version": "3.9.12"
  }
 },
 "nbformat": 4,
 "nbformat_minor": 5
}
